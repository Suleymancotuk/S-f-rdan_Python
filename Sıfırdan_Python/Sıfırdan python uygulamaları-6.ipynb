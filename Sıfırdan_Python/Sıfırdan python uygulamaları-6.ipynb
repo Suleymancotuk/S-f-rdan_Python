{
 "cells": [
  {
   "cell_type": "code",
   "execution_count": 1,
   "id": "ac69cd59",
   "metadata": {},
   "outputs": [],
   "source": [
    "ogrenciler = {\n",
    "        '244': {\n",
    "            'ad': 'Süleyman',\n",
    "            'soyad': 'Çotuk',\n",
    "            'telefon': '539 567 88 66'\n",
    "        },\n",
    "        '247': {\n",
    "            'ad': 'Yasin',\n",
    "            'soyad': 'Çotuk',\n",
    "            'telefon': '534 947 47 43'\n",
    "        },\n",
    "        '404': {\n",
    "            'ad': 'Dilber',\n",
    "            'soyad': 'Çotuk',\n",
    "            'telefon': '537 543 96 45'\n",
    "        },\n",
    "    }"
   ]
  },
  {
   "cell_type": "markdown",
   "id": "5ef882e8",
   "metadata": {},
   "source": [
    "#### 1- Bilgileri verilen öğrencileri kullanıcıdan aldığınız bilgilerle dictionary içinde saklayınız."
   ]
  },
  {
   "cell_type": "code",
   "execution_count": 2,
   "id": "109a0a15",
   "metadata": {},
   "outputs": [
    {
     "name": "stdout",
     "output_type": "stream",
     "text": [
      "Öğrenci no:244\n",
      "Öğrenci adı:Süleyman\n",
      "Öğrenci Soyadı:Çotuk\n",
      "Öğrenci telefon:13113213\n",
      "Öğrenci no:247\n",
      "Öğrenci adı:Yasin\n",
      "Öğrenci Soyadı:Çotuk\n",
      "Öğrenci telefon:13313244\n",
      "Öğrenci no:404\n",
      "Öğrenci adı:Dilber\n",
      "Öğrenci Soyadı:Çotuk\n",
      "Öğrenci telefon:45654324\n",
      "{'244': {'ad': 'Süleyman', 'soyad': 'Çotuk', 'telefon': '13113213'}, '247': {'ad': 'Yasin', 'soyad': 'Çotuk', 'telefon': '13313244'}, '404': {'ad': 'Dilber', 'soyad': 'Çotuk', 'telefon': '45654324'}}\n"
     ]
    }
   ],
   "source": [
    "ogrenciler_={}\n",
    "\n",
    "number=input(\"Öğrenci no:\")\n",
    "name=input(\"Öğrenci adı:\")\n",
    "surname=input(\"Öğrenci Soyadı:\")\n",
    "phone=input(\"Öğrenci telefon:\")\n",
    "\n",
    "ogrenciler_.update({\n",
    "    number:{\n",
    "        'ad':name,\n",
    "        'soyad':surname,\n",
    "        'telefon':phone\n",
    "    }\n",
    "})\n",
    "number=input(\"Öğrenci no:\")\n",
    "name=input(\"Öğrenci adı:\")\n",
    "surname=input(\"Öğrenci Soyadı:\")\n",
    "phone=input(\"Öğrenci telefon:\")\n",
    "\n",
    "ogrenciler_.update({\n",
    "    number:{\n",
    "        'ad':name,\n",
    "        'soyad':surname,\n",
    "        'telefon':phone\n",
    "    }\n",
    "})\n",
    "number=input(\"Öğrenci no:\")\n",
    "name=input(\"Öğrenci adı:\")\n",
    "surname=input(\"Öğrenci Soyadı:\")\n",
    "phone=input(\"Öğrenci telefon:\")\n",
    "\n",
    "ogrenciler_.update({\n",
    "    number:{\n",
    "        'ad':name,\n",
    "        'soyad':surname,\n",
    "        'telefon':phone\n",
    "    }\n",
    "})\n",
    "print(ogrenciler_)"
   ]
  },
  {
   "cell_type": "markdown",
   "id": "ef121429",
   "metadata": {},
   "source": [
    "#### 2- Öğrenci numarasını kullanıcıdan alıp ilgili öğrenci bilgisini gösterin."
   ]
  },
  {
   "cell_type": "code",
   "execution_count": 9,
   "id": "52fd3fd3",
   "metadata": {},
   "outputs": [
    {
     "name": "stdout",
     "output_type": "stream",
     "text": [
      "Öğrenci no:404\n",
      "{'ad': 'Dilber', 'soyad': 'Çotuk', 'telefon': '45654324'}\n",
      "Aradığınız 404 nolu öğrencinin adı: Dilber soyadı: Çotuk ve telefon numarası: 45654324\n"
     ]
    }
   ],
   "source": [
    "numara=input(\"Öğrenci no:\")\n",
    "ogrenci=ogrenciler_[numara]\n",
    "print(ogrenci)\n",
    "\n",
    "print(f'Aradığınız {numara} nolu öğrencinin adı: {ogrenci[\"ad\"]} soyadı: {ogrenci[\"soyad\"]} ve telefon numarası: {ogrenci[\"telefon\"]}')"
   ]
  },
  {
   "cell_type": "code",
   "execution_count": null,
   "id": "4d6e22f4",
   "metadata": {},
   "outputs": [],
   "source": []
  }
 ],
 "metadata": {
  "kernelspec": {
   "display_name": "Python 3 (ipykernel)",
   "language": "python",
   "name": "python3"
  },
  "language_info": {
   "codemirror_mode": {
    "name": "ipython",
    "version": 3
   },
   "file_extension": ".py",
   "mimetype": "text/x-python",
   "name": "python",
   "nbconvert_exporter": "python",
   "pygments_lexer": "ipython3",
   "version": "3.9.7"
  }
 },
 "nbformat": 4,
 "nbformat_minor": 5
}
