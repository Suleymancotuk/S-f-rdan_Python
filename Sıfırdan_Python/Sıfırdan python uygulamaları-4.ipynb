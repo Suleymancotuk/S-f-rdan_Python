{
 "cells": [
  {
   "cell_type": "markdown",
   "id": "98c69a1e",
   "metadata": {},
   "source": [
    "#### 1-  \"Bmw, Mercedes, Volvo,Ford,Dodge,Tofaş,Togg, Mazda\" elemanlarına sahip bir liste oluşturunuz."
   ]
  },
  {
   "cell_type": "code",
   "execution_count": 2,
   "id": "a8fa3963",
   "metadata": {},
   "outputs": [
    {
     "name": "stdout",
     "output_type": "stream",
     "text": [
      "['Bmw', 'Mercedes', 'Volvo', 'Ford', 'Dodge', 'Tofaş', 'Togg', 'Mazda']\n"
     ]
    }
   ],
   "source": [
    "arabalar=['Bmw','Mercedes','Volvo','Ford','Dodge','Tofaş','Togg','Mazda']\n",
    "print(arabalar)"
   ]
  },
  {
   "cell_type": "markdown",
   "id": "69ec590f",
   "metadata": {},
   "source": [
    "#### 2-  Liste Kaç elemanlıdır ?"
   ]
  },
  {
   "cell_type": "code",
   "execution_count": 3,
   "id": "ba909ca4",
   "metadata": {},
   "outputs": [
    {
     "name": "stdout",
     "output_type": "stream",
     "text": [
      "8\n"
     ]
    }
   ],
   "source": [
    "cevap2=print(len(arabalar))"
   ]
  },
  {
   "cell_type": "markdown",
   "id": "c5106fca",
   "metadata": {},
   "source": [
    "#### 3-  Listenin ilk ve son elemanı nedir ?"
   ]
  },
  {
   "cell_type": "code",
   "execution_count": 5,
   "id": "84100229",
   "metadata": {},
   "outputs": [
    {
     "name": "stdout",
     "output_type": "stream",
     "text": [
      "Bmw\n",
      "Mazda\n"
     ]
    }
   ],
   "source": [
    "cevap3=print(arabalar[0])\n",
    "cevap3_2=print(arabalar[-1])"
   ]
  },
  {
   "cell_type": "markdown",
   "id": "f6abf548",
   "metadata": {},
   "source": [
    "#### 4-  Mazda değerini Toyota ile değiştirin."
   ]
  },
  {
   "cell_type": "code",
   "execution_count": 7,
   "id": "3c108776",
   "metadata": {},
   "outputs": [
    {
     "name": "stdout",
     "output_type": "stream",
     "text": [
      "Toyota\n",
      "['Bmw', 'Mercedes', 'Volvo', 'Ford', 'Dodge', 'Tofaş', 'Togg', 'Toyota']\n"
     ]
    }
   ],
   "source": [
    "cevap4=arabalar[-1]='Toyota'\n",
    "print(cevap4)\n",
    "print(arabalar)"
   ]
  },
  {
   "cell_type": "markdown",
   "id": "83d3ffc5",
   "metadata": {},
   "source": [
    "#### 5-  Mercedes listenin bir elemanı mıdır ?"
   ]
  },
  {
   "cell_type": "code",
   "execution_count": 8,
   "id": "5261a77a",
   "metadata": {},
   "outputs": [
    {
     "name": "stdout",
     "output_type": "stream",
     "text": [
      "True\n"
     ]
    }
   ],
   "source": [
    "cevap5=print('Mercedes' in arabalar)"
   ]
  },
  {
   "cell_type": "markdown",
   "id": "439edfb3",
   "metadata": {},
   "source": [
    " #### 6-  Listenin -3 indeksindeki değer nedir ?"
   ]
  },
  {
   "cell_type": "code",
   "execution_count": 9,
   "id": "ae9fcd6a",
   "metadata": {},
   "outputs": [
    {
     "name": "stdout",
     "output_type": "stream",
     "text": [
      "Tofaş\n"
     ]
    }
   ],
   "source": [
    "cevap6=print(arabalar[-3])"
   ]
  },
  {
   "cell_type": "markdown",
   "id": "93f5a656",
   "metadata": {},
   "source": [
    "#### 7-  Listenin ilk 4 elemanını alın."
   ]
  },
  {
   "cell_type": "code",
   "execution_count": 12,
   "id": "845fbbe2",
   "metadata": {},
   "outputs": [
    {
     "name": "stdout",
     "output_type": "stream",
     "text": [
      "['Bmw', 'Mercedes', 'Volvo', 'Ford']\n"
     ]
    }
   ],
   "source": [
    "cevap7=print(arabalar[0:4])"
   ]
  },
  {
   "cell_type": "markdown",
   "id": "1e5c269f",
   "metadata": {},
   "source": [
    "#### 8-  Listenin son 2 elemanı yerine \"Totoya\" ve \"Renault\" değerlerini ekleyin."
   ]
  },
  {
   "cell_type": "code",
   "execution_count": 14,
   "id": "87082414",
   "metadata": {},
   "outputs": [
    {
     "name": "stdout",
     "output_type": "stream",
     "text": [
      "['Bmw', 'Mercedes', 'Volvo', 'Ford', 'Dodge', 'Tofaş', 'Toyota', 'Renault']\n"
     ]
    }
   ],
   "source": [
    "cevap8=arabalar[-1]='Renault'\n",
    "cevap8_2=arabalar[-2]='Toyota'\n",
    "print(arabalar)"
   ]
  },
  {
   "cell_type": "markdown",
   "id": "2affa3fb",
   "metadata": {},
   "source": [
    "#### 9-  Listenin üzerine \"Audi\" ve \"Nissan\" değerlerini ekleyin."
   ]
  },
  {
   "cell_type": "code",
   "execution_count": 17,
   "id": "987f3c93",
   "metadata": {},
   "outputs": [
    {
     "name": "stdout",
     "output_type": "stream",
     "text": [
      "['Bmw', 'Mercedes', 'Volvo', 'Ford', 'Dodge', 'Tofaş', 'Toyota', 'Renault', 'Audi', 'Audi', 'Nissan']\n"
     ]
    }
   ],
   "source": [
    "cevap9=arabalar.append('Audi')\n",
    "cevap9_2=arabalar.append('Nissan')\n",
    "print(arabalar)"
   ]
  },
  {
   "cell_type": "markdown",
   "id": "e9584f27",
   "metadata": {},
   "source": [
    "#### 10- Listenin son elemanını silin."
   ]
  },
  {
   "cell_type": "code",
   "execution_count": 19,
   "id": "0a6ce0fe",
   "metadata": {},
   "outputs": [
    {
     "name": "stdout",
     "output_type": "stream",
     "text": [
      "['Bmw', 'Mercedes', 'Volvo', 'Ford', 'Dodge', 'Tofaş', 'Toyota', 'Renault', 'Audi']\n"
     ]
    }
   ],
   "source": [
    "arabalar.pop()\n",
    "print(arabalar)"
   ]
  },
  {
   "cell_type": "markdown",
   "id": "6330dcbd",
   "metadata": {},
   "source": [
    "#### 11- Liste elemanlarını tersten yazdırınız."
   ]
  },
  {
   "cell_type": "code",
   "execution_count": 20,
   "id": "36eaf221",
   "metadata": {},
   "outputs": [
    {
     "name": "stdout",
     "output_type": "stream",
     "text": [
      "['Audi', 'Renault', 'Toyota', 'Tofaş', 'Dodge', 'Ford', 'Volvo', 'Mercedes', 'Bmw']\n"
     ]
    }
   ],
   "source": [
    "cevap11=arabalar[::-1]\n",
    "print(cevap11)"
   ]
  },
  {
   "cell_type": "markdown",
   "id": "46becefa",
   "metadata": {},
   "source": [
    "#### 12- Aşağıdaki verileri bir liste içinde saklayınız. \n",
    "   * studentA: Süleyman Çotuk 1995, (90,70,54)\n",
    "   * studentB: Fırat Şahin  1997, (83,74,12)\n",
    "   * studentC: Yasin Çotuk 1997, (88,79,11) "
   ]
  },
  {
   "cell_type": "code",
   "execution_count": 27,
   "id": "c9312e79",
   "metadata": {},
   "outputs": [
    {
     "name": "stdout",
     "output_type": "stream",
     "text": [
      "['Süleyman', 'Çotuk']\n",
      "[1997]\n",
      "[[88, 79, 11]]\n"
     ]
    }
   ],
   "source": [
    "studentA=['Süleyman','Çotuk',1995,[90,70,54]]\n",
    "studentB=['Fırat','Şahin',1997,[83,74,12]]\n",
    "studentC=['Yasin','Çotuk',1997,[88,79,11]]\n",
    "print(studentA[0:2])\n",
    "print(studentB[2:3])\n",
    "print(studentC[3:])"
   ]
  },
  {
   "cell_type": "markdown",
   "id": "2b2ddec5",
   "metadata": {},
   "source": [
    "#### 13- Liste elemanlarını ekrana yazdırınız."
   ]
  },
  {
   "cell_type": "code",
   "execution_count": 32,
   "id": "7245d24a",
   "metadata": {},
   "outputs": [
    {
     "name": "stdout",
     "output_type": "stream",
     "text": [
      "Süleyman Çotuk 27 yaşında ve not ortalaması:71.33333333333333\n",
      "Fırat Şahin 25 yaşında ve not ortalaması:56.333333333333336\n",
      "Yasin Çotuk 25 yaşında ve not ortalaması:59.333333333333336\n"
     ]
    }
   ],
   "source": [
    "cevap13=print(f\"{studentA[0]} {studentA[1]} {2022-studentA[2]} yaşında ve not ortalaması:{(studentA[3][0]+studentA[3][1]+studentA[3][2])/3}\")\n",
    "cevap13_2=print(f\"{studentB[0]} {studentB[1]} {2022-studentB[2]} yaşında ve not ortalaması:{(studentB[3][0]+studentB[3][1]+studentB[3][2])/3}\")\n",
    "cevap13_3=print(f\"{studentC[0]} {studentC[1]} {2022-studentC[2]} yaşında ve not ortalaması:{(studentC[3][0]+studentC[3][1]+studentC[3][2])/3}\")"
   ]
  }
 ],
 "metadata": {
  "kernelspec": {
   "display_name": "Python 3 (ipykernel)",
   "language": "python",
   "name": "python3"
  },
  "language_info": {
   "codemirror_mode": {
    "name": "ipython",
    "version": 3
   },
   "file_extension": ".py",
   "mimetype": "text/x-python",
   "name": "python",
   "nbconvert_exporter": "python",
   "pygments_lexer": "ipython3",
   "version": "3.9.7"
  }
 },
 "nbformat": 4,
 "nbformat_minor": 5
}
