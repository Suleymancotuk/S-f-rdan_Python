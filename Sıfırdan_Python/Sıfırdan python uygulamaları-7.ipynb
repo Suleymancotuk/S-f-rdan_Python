{
 "cells": [
  {
   "cell_type": "code",
   "execution_count": 1,
   "id": "d5623f22",
   "metadata": {},
   "outputs": [],
   "source": [
    "x,y,z,w,t,s=24,66,78,98,34,31\n",
    "numaralar=31,67,87,44,59,56,34,23,12,121"
   ]
  },
  {
   "cell_type": "markdown",
   "id": "792e4156",
   "metadata": {},
   "source": [
    "#### 1- Kullanıcıdan aldığınız 2 sayının çarpımı ile x,y,z,t toplamının farkı nedir ?"
   ]
  },
  {
   "cell_type": "code",
   "execution_count": 2,
   "id": "ebca8376",
   "metadata": {},
   "outputs": [
    {
     "name": "stdout",
     "output_type": "stream",
     "text": [
      "1.sayıyı giriniz: 23\n",
      "2.sayıyı giriniz: 245\n",
      "İşlemlerin sonucu:5433 şeklidedir.\n"
     ]
    }
   ],
   "source": [
    "a=int(input(\"1.sayıyı giriniz: \"))\n",
    "b=int(input(\"2.sayıyı giriniz: \"))\n",
    "sonuc = (a*b)-(x+y+z+t)\n",
    "cevap_1=print(f\"İşlemlerin sonucu:{sonuc} şeklidedir.\")"
   ]
  },
  {
   "cell_type": "markdown",
   "id": "b3bd618c",
   "metadata": {},
   "source": [
    "#### 2- s' nin  t' e kalansız bölümünü hesaplayınız."
   ]
  },
  {
   "cell_type": "code",
   "execution_count": 3,
   "id": "4ddbc33f",
   "metadata": {},
   "outputs": [
    {
     "name": "stdout",
     "output_type": "stream",
     "text": [
      "s'nin t'ye kalansız bölümü:0'dır.\n"
     ]
    }
   ],
   "source": [
    "sonuc=s//t\n",
    "print(f\"s'nin t'ye kalansız bölümü:{sonuc}'dır.\")"
   ]
  },
  {
   "cell_type": "markdown",
   "id": "f3f6f44a",
   "metadata": {},
   "source": [
    "#### 3- (x,s,w) toplamının mod 5' i nedir ?"
   ]
  },
  {
   "cell_type": "code",
   "execution_count": 4,
   "id": "bff51678",
   "metadata": {},
   "outputs": [
    {
     "name": "stdout",
     "output_type": "stream",
     "text": [
      " Toplamın mod 5'e bölümü: 3'şeklindedir.\n"
     ]
    }
   ],
   "source": [
    "sonuc=(x+s+w) % 5\n",
    "print(f\" Toplamın mod 5'e bölümü: {sonuc}'şeklindedir.\")"
   ]
  },
  {
   "cell_type": "markdown",
   "id": "609ec59f",
   "metadata": {},
   "source": [
    "#### 4- s' nin w. kuvvetini hesaplayınız."
   ]
  },
  {
   "cell_type": "code",
   "execution_count": 5,
   "id": "0a16f087",
   "metadata": {},
   "outputs": [
    {
     "name": "stdout",
     "output_type": "stream",
     "text": [
      " s'nin w. kuvveti: 142379018823792420402481709367335849876363600448082422881790178200725337386483342517539870222782452837098229436506244267870780878332792150460872641'şekilindedir.\n"
     ]
    }
   ],
   "source": [
    "sonuc=s**w\n",
    "print(f\" s'nin w. kuvveti: {sonuc}'şekilindedir.\")"
   ]
  },
  {
   "cell_type": "markdown",
   "id": "b2c087bc",
   "metadata": {},
   "source": [
    "#### 5- s, *l, m,n = numaralar işlemine göre n' nin küpü kaçtır ?"
   ]
  },
  {
   "cell_type": "code",
   "execution_count": 7,
   "id": "25de0157",
   "metadata": {},
   "outputs": [
    {
     "name": "stdout",
     "output_type": "stream",
     "text": [
      "n sayısının değeri:121\n",
      "İşleme göre n'nin küpü:1771561 şeklindedir.\n"
     ]
    }
   ],
   "source": [
    "s,*l,m,n=numaralar\n",
    "sonuc=n**3\n",
    "print(f\"n sayısının değeri:{n}\")\n",
    "print(f\"İşleme göre n'nin küpü:{sonuc} şeklindedir.\")"
   ]
  },
  {
   "cell_type": "markdown",
   "id": "a4c31426",
   "metadata": {},
   "source": [
    "#### 6- c,*t,k = numaralar işlemine göre t'nin değerleri toplamı kaçtır?"
   ]
  },
  {
   "cell_type": "code",
   "execution_count": 8,
   "id": "db147390",
   "metadata": {},
   "outputs": [
    {
     "name": "stdout",
     "output_type": "stream",
     "text": [
      "t'nin değerleri:[67, 87, 44, 59, 56, 34, 23, 12]' şeklindedir.\n",
      "t'nin değerleri toplamı:382'şeklindedir.\n"
     ]
    }
   ],
   "source": [
    "c,*t,k=numaralar\n",
    "sonuc=t\n",
    "toplam= sum(sonuc)\n",
    "print(f\"t'nin değerleri:{sonuc}' şeklindedir.\")\n",
    "print(f\"t'nin değerleri toplamı:{toplam}'şeklindedir.\")"
   ]
  },
  {
   "cell_type": "code",
   "execution_count": null,
   "id": "4aa5ef1b",
   "metadata": {},
   "outputs": [],
   "source": []
  }
 ],
 "metadata": {
  "kernelspec": {
   "display_name": "Python 3 (ipykernel)",
   "language": "python",
   "name": "python3"
  },
  "language_info": {
   "codemirror_mode": {
    "name": "ipython",
    "version": 3
   },
   "file_extension": ".py",
   "mimetype": "text/x-python",
   "name": "python",
   "nbconvert_exporter": "python",
   "pygments_lexer": "ipython3",
   "version": "3.9.7"
  }
 },
 "nbformat": 4,
 "nbformat_minor": 5
}
