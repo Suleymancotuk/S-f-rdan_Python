{
 "cells": [
  {
   "cell_type": "markdown",
   "id": "a6d4fe76",
   "metadata": {},
   "source": [
    "#### 1- Girilen 2 sayıdan hangisi büyüktür ?"
   ]
  },
  {
   "cell_type": "code",
   "execution_count": 2,
   "id": "cae95a09",
   "metadata": {},
   "outputs": [
    {
     "name": "stdout",
     "output_type": "stream",
     "text": [
      "1.sayıyı giriniz: 45\n",
      "2.sayıyı giriniz: 56\n",
      "Girilen 45 değeri, girilen 56 değerinden küçüktür.\n"
     ]
    }
   ],
   "source": [
    "sayı1=int(input('1.sayıyı giriniz: '))\n",
    "sayı2=int(input('2.sayıyı giriniz: '))\n",
    "if sayı1>sayı2:\n",
    "    print(f\"Girilen {sayı1} değeri, girilen {sayı2} değerinden büyüktür.\")\n",
    "else:\n",
    "    print(f\"Girilen {sayı1} değeri, girilen {sayı2} değerinden küçüktür.\")"
   ]
  },
  {
   "cell_type": "markdown",
   "id": "bb461594",
   "metadata": {},
   "source": [
    "#### 2- Kullanıcıdan 2 vize (%60) ve final (%40) notunu alıp ortalama hesaplayınız.Eğer ortalama 50 ve üstündeyse geçti değilse kaldı yazdırın."
   ]
  },
  {
   "cell_type": "code",
   "execution_count": 3,
   "id": "4dc3a3f1",
   "metadata": {},
   "outputs": [
    {
     "name": "stdout",
     "output_type": "stream",
     "text": [
      "Vize Notu 1: 67\n",
      "Vize Notu 2: 87\n",
      "Final Notu : 11\n",
      "Öğrencinin sınav ortalaması: 96.8'şeklindedir. Öğrenci geçti.\n"
     ]
    }
   ],
   "source": [
    "vize1=int(input('Vize Notu 1: '))\n",
    "vize2=int(input('Vize Notu 2: '))\n",
    "final=int(input('Final Notu : '))\n",
    "ortalama=((vize1+vize2)*0.6)+(final*0.4)\n",
    "    \n",
    "if ortalama> 50:\n",
    "    print(f\"Öğrencinin sınav ortalaması: {ortalama}'şeklindedir. Öğrenci geçti.\")\n",
    "else:\n",
    "    print(f\"Öğrencinin sınav ortalaması: {ortalama}'şeklindedir. Öğrenci kaldı.\")"
   ]
  },
  {
   "cell_type": "markdown",
   "id": "3ece495d",
   "metadata": {},
   "source": [
    "#### 3- Girilen bir sayının tek mi çift mi olduğunu yazdırın."
   ]
  },
  {
   "cell_type": "code",
   "execution_count": 5,
   "id": "f9ebbece",
   "metadata": {},
   "outputs": [
    {
     "name": "stdout",
     "output_type": "stream",
     "text": [
      "Sayıyı giriniz: 65\n",
      "Girilen 65 sayısı TEK bir sayıdır.\n"
     ]
    }
   ],
   "source": [
    "sayı=int(input('Sayıyı giriniz: '))\n",
    "if sayı%2==0:\n",
    "    print(f\"Girilen {sayı} sayısı ÇİFT bir sayıdır.\")\n",
    "else:\n",
    "    print(f\"Girilen {sayı} sayısı TEK bir sayıdır.\")"
   ]
  },
  {
   "cell_type": "markdown",
   "id": "a805f193",
   "metadata": {},
   "source": [
    "#### 4- Girilen bir sayının negatif pozitif durumunu yazdırın."
   ]
  },
  {
   "cell_type": "code",
   "execution_count": 7,
   "id": "c5431329",
   "metadata": {},
   "outputs": [
    {
     "name": "stdout",
     "output_type": "stream",
     "text": [
      "Sayıyı giriniz: -98\n",
      "Girilen -98 sayısı NEGATİF bir sayıdır.\n"
     ]
    }
   ],
   "source": [
    "sayı=int(input('Sayıyı giriniz: '))\n",
    "if sayı>0:\n",
    "    print(f\"Girilen {sayı} sayısı POZİTİF bir sayıdır.\")\n",
    "else:\n",
    "    print(f\"Girilen {sayı} sayısı NEGATİF bir sayıdır.\")"
   ]
  },
  {
   "cell_type": "markdown",
   "id": "84f86b37",
   "metadata": {},
   "source": [
    "#### 5- Parola ve email bilgisini isteyip doğruluğunu kontrol ediniz.\n",
    "* email: cotuksuleymann@gmail.com \n",
    "* parola:nebileyimben"
   ]
  },
  {
   "cell_type": "code",
   "execution_count": 9,
   "id": "61fc9d60",
   "metadata": {},
   "outputs": [
    {
     "name": "stdout",
     "output_type": "stream",
     "text": [
      "Lütfen email adresinizi giriniz: cotuksuleymann@gmail.com\n",
      "Parolanızı giriniz:nebileyimben\n",
      "Doğru email girişi yapıldı.\n",
      "Doğru parola girişi yapıldı.\n"
     ]
    }
   ],
   "source": [
    "email=\"cotuksuleymann@gmail.com\"\n",
    "parola=\"nebileyimben\"\n",
    "\n",
    "girilen_email=input('Lütfen email adresinizi giriniz: ')\n",
    "girilen_parola=input('Parolanızı giriniz:')\n",
    "if girilen_email==email:\n",
    "    print(\"Doğru email girişi yapıldı.\")\n",
    "else:\n",
    "    print(\"Bişeyler yanlış gitti.\")\n",
    "    \n",
    "if girilen_parola==parola:\n",
    "        print(\"Doğru parola girişi yapıldı.\")\n",
    "else:\n",
    "    print(\"Bişeyler yanlış gitti.\")"
   ]
  },
  {
   "cell_type": "code",
   "execution_count": 10,
   "id": "c2ed5e85",
   "metadata": {},
   "outputs": [
    {
     "name": "stdout",
     "output_type": "stream",
     "text": [
      "Lütfen email adresinizi giriniz: cotuksuleyman@gmail.co\n",
      "Parolanızı giriniz:ne bileyim ben\n",
      "Bişeyler yanlış gitti.\n",
      "Bişeyler yanlış gitti.\n"
     ]
    }
   ],
   "source": [
    "email=\"cotuksuleymann@gmail.com\"\n",
    "parola=\"nebileyimben\"\n",
    "\n",
    "girilen_email=input('Lütfen email adresinizi giriniz: ')\n",
    "girilen_parola=input('Parolanızı giriniz:')\n",
    "if girilen_email==email:\n",
    "    print(\"Doğru email girişi yapıldı.\")\n",
    "else:\n",
    "    print(\"Bişeyler yanlış gitti.\")\n",
    "    \n",
    "if girilen_parola==parola:\n",
    "        print(\"Doğru parola girişi yapıldı.\")\n",
    "else:\n",
    "    print(\"Bişeyler yanlış gitti.\")"
   ]
  },
  {
   "cell_type": "code",
   "execution_count": null,
   "id": "2d080a58",
   "metadata": {},
   "outputs": [],
   "source": []
  }
 ],
 "metadata": {
  "kernelspec": {
   "display_name": "Python 3 (ipykernel)",
   "language": "python",
   "name": "python3"
  },
  "language_info": {
   "codemirror_mode": {
    "name": "ipython",
    "version": 3
   },
   "file_extension": ".py",
   "mimetype": "text/x-python",
   "name": "python",
   "nbconvert_exporter": "python",
   "pygments_lexer": "ipython3",
   "version": "3.9.7"
  }
 },
 "nbformat": 4,
 "nbformat_minor": 5
}
