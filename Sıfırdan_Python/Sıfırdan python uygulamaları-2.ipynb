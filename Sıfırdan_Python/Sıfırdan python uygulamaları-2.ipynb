{
 "cells": [
  {
   "cell_type": "code",
   "execution_count": 2,
   "id": "26f54582",
   "metadata": {},
   "outputs": [],
   "source": [
    "email='cotuksuleyman@gmail.com'\n",
    "ders=\"--Sıfırdan Python Öğreniyorum uygulamalarını yazıyorum.--\""
   ]
  },
  {
   "cell_type": "markdown",
   "id": "ec4f4250",
   "metadata": {},
   "source": [
    "##### 1- ders karakter dizinisinde kaç karakter bulunmaktadır."
   ]
  },
  {
   "cell_type": "code",
   "execution_count": 3,
   "id": "54d4f246",
   "metadata": {},
   "outputs": [
    {
     "name": "stdout",
     "output_type": "stream",
     "text": [
      "57\n"
     ]
    }
   ],
   "source": [
    "cevap_1=print(len(ders))"
   ]
  },
  {
   "cell_type": "markdown",
   "id": "412818e8",
   "metadata": {},
   "source": [
    "##### 2- email içinden gmail. karakterlerini alalım."
   ]
  },
  {
   "cell_type": "code",
   "execution_count": 7,
   "id": "65a27cc9",
   "metadata": {},
   "outputs": [
    {
     "name": "stdout",
     "output_type": "stream",
     "text": [
      "gmail.\n"
     ]
    }
   ],
   "source": [
    "cevap_2=print(email[14:20])"
   ]
  },
  {
   "cell_type": "markdown",
   "id": "250af8f7",
   "metadata": {},
   "source": [
    "##### 3- email içinden com karakterlerini alalım."
   ]
  },
  {
   "cell_type": "code",
   "execution_count": 13,
   "id": "efa30a0f",
   "metadata": {},
   "outputs": [
    {
     "name": "stdout",
     "output_type": "stream",
     "text": [
      "com\n",
      "com\n"
     ]
    }
   ],
   "source": [
    "cevap_3=print(email[20:24])\n",
    "uzunluk=len(email)\n",
    "cevap_3_2=print(email[uzunluk - 3:uzunluk])"
   ]
  },
  {
   "cell_type": "markdown",
   "id": "452ce93a",
   "metadata": {},
   "source": [
    "##### 4- ders  içindeki ilk 11 ve son 19 karakterlerini alalım."
   ]
  },
  {
   "cell_type": "code",
   "execution_count": 21,
   "id": "45deb96c",
   "metadata": {},
   "outputs": [
    {
     "name": "stdout",
     "output_type": "stream",
     "text": [
      "--Sıfırdan \n",
      "P\n",
      "ğ\n",
      "r\n"
     ]
    }
   ],
   "source": [
    "cevap_4=print(ders[0:11])\n",
    "cevap_4_2=print(ders[11])\n",
    "cevap_4_3=print(ders[19])\n",
    "cevap_4_4=print(ders[len(ders)-17])"
   ]
  },
  {
   "cell_type": "markdown",
   "id": "945e4c73",
   "metadata": {},
   "source": [
    "##### 5- ders  içindeki karakterleri tersten yazdıralım."
   ]
  },
  {
   "cell_type": "code",
   "execution_count": 23,
   "id": "693e55bd",
   "metadata": {},
   "outputs": [
    {
     "name": "stdout",
     "output_type": "stream",
     "text": [
      "--.muroyızay ınıralamalugyu muroyinerğÖ nohtyP nadrıfıS--\n"
     ]
    }
   ],
   "source": [
    "cevap_5=print(ders[::-1])"
   ]
  },
  {
   "cell_type": "code",
   "execution_count": 24,
   "id": "85b2396b",
   "metadata": {},
   "outputs": [],
   "source": [
    "name,surname,age,job='Süleyman','Çotuk',27,'İstatistikçi'"
   ]
  },
  {
   "cell_type": "markdown",
   "id": "e35a1380",
   "metadata": {},
   "source": [
    "#### 6- Yukarıda verilen değişkenler ile akrana aşağıdaki ifadeyi yazdıralım.\n",
    "\n",
    "* Benim Adım Süleyman Çotuk ve yaşım 27, mesleğim ise İstatistikçi"
   ]
  },
  {
   "cell_type": "code",
   "execution_count": 31,
   "id": "9ef70d59",
   "metadata": {
    "scrolled": true
   },
   "outputs": [
    {
     "name": "stdout",
     "output_type": "stream",
     "text": [
      "Benim Adım Süleyman Çotuk ve yaşım 27,mesleğim ise İstatistikçi\n",
      "Benim Adım Süleyman Çotuk ve yaşım 27, mesleğim ise İstatistikçi\n",
      "Benim Adım Süleyman Çotuk ve yaşım 27, mesleğim ise İstatistikçi\n",
      "Benim Adım Çotuk Süleyman ve yaşım 27, mesleğim ise İstatistikçi\n"
     ]
    }
   ],
   "source": [
    "cevap_6=print(\"Benim Adım \"+ name+ \" \"+ surname+ \" ve yaşım \"+ str(age)+\",\" +\"mesleğim ise \"+job)\n",
    "cevap_6_2=print('Benim Adım {} {} ve yaşım {}, mesleğim ise {}'.format(name,surname,age,job))\n",
    "cevap_6_3=print(f\"Benim Adım {name} {surname} ve yaşım {age}, mesleğim ise {job}\")\n",
    "cevap_6_4=print('Benim Adım {1} {0} ve yaşım {2}, mesleğim ise {3}'.format(name,surname,age,job))"
   ]
  },
  {
   "cell_type": "markdown",
   "id": "276f12ea",
   "metadata": {},
   "source": [
    "#### 7- 'Merhaba Süleyman ifadesindeki h harfini H ile değiştirin."
   ]
  },
  {
   "cell_type": "code",
   "execution_count": 40,
   "id": "4b1c7688",
   "metadata": {},
   "outputs": [
    {
     "name": "stdout",
     "output_type": "stream",
     "text": [
      "MerHaba Süleyman\n",
      "MerHaba Süleyman\n"
     ]
    }
   ],
   "source": [
    "h=\"Merhaba Süleyman\"\n",
    "h_1=h[0:3]+ \"H\" +h[-12:]\n",
    "print(h_1)\n",
    "h=h.replace(\"h\",\"H\")\n",
    "print(h)"
   ]
  },
  {
   "cell_type": "markdown",
   "id": "2dc723d1",
   "metadata": {},
   "source": [
    "#### 8- 'İstatistik Pişmanlıktır. ifadesini 4 defa yan yana yazdıralım."
   ]
  },
  {
   "cell_type": "code",
   "execution_count": 42,
   "id": "07962f93",
   "metadata": {},
   "outputs": [
    {
     "name": "stdout",
     "output_type": "stream",
     "text": [
      "İstatistik Pişmanlıktır.İstatistik Pişmanlıktır.İstatistik Pişmanlıktır.İstatistik Pişmanlıktır.\n"
     ]
    }
   ],
   "source": [
    "cevap_8='İstatistik Pişmanlıktır.'*4\n",
    "print(cevap_8)"
   ]
  }
 ],
 "metadata": {
  "kernelspec": {
   "display_name": "Python 3 (ipykernel)",
   "language": "python",
   "name": "python3"
  },
  "language_info": {
   "codemirror_mode": {
    "name": "ipython",
    "version": 3
   },
   "file_extension": ".py",
   "mimetype": "text/x-python",
   "name": "python",
   "nbconvert_exporter": "python",
   "pygments_lexer": "ipython3",
   "version": "3.9.7"
  }
 },
 "nbformat": 4,
 "nbformat_minor": 5
}
