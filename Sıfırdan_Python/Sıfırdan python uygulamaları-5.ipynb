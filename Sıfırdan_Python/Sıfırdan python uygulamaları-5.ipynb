{
 "cells": [
  {
   "cell_type": "code",
   "execution_count": 1,
   "id": "5c99c5f4",
   "metadata": {},
   "outputs": [],
   "source": [
    "names=['Süleyman','Yasin','Hayriye','Fırat','Emre','Eda','Beyza']\n",
    "years=[1995,1997,1998,1997,1994,1997,2000]"
   ]
  },
  {
   "cell_type": "markdown",
   "id": "86b313a1",
   "metadata": {},
   "source": [
    "#### 1-  \"Mustafa\" ismini listenin sonuna ekleyiniz."
   ]
  },
  {
   "cell_type": "code",
   "execution_count": 2,
   "id": "03dd36eb",
   "metadata": {},
   "outputs": [
    {
     "name": "stdout",
     "output_type": "stream",
     "text": [
      "['Süleyman', 'Yasin', 'Hayriye', 'Fırat', 'Emre', 'Eda', 'Beyza', 'Mustafa']\n"
     ]
    }
   ],
   "source": [
    "cevap1=names.append('Mustafa')\n",
    "print(names)"
   ]
  },
  {
   "cell_type": "markdown",
   "id": "bf0f60d0",
   "metadata": {},
   "source": [
    "#### 2-  \"Dilber\" değerini listenin başına ekleyiniz."
   ]
  },
  {
   "cell_type": "code",
   "execution_count": 4,
   "id": "9b3a45c7",
   "metadata": {},
   "outputs": [
    {
     "name": "stdout",
     "output_type": "stream",
     "text": [
      "['Dilber', 'Dilber', 'Süleyman', 'Yasin', 'Hayriye', 'Fırat', 'Emre', 'Eda', 'Beyza', 'Mustafa']\n"
     ]
    }
   ],
   "source": [
    "cevap2=names.insert(0,'Dilber')\n",
    "print(names)"
   ]
  },
  {
   "cell_type": "markdown",
   "id": "b6f165d4",
   "metadata": {},
   "source": [
    "#### 3-  \"Eda\" ismini listeden siliniz."
   ]
  },
  {
   "cell_type": "code",
   "execution_count": 5,
   "id": "28329eb2",
   "metadata": {},
   "outputs": [
    {
     "name": "stdout",
     "output_type": "stream",
     "text": [
      "['Dilber', 'Dilber', 'Süleyman', 'Yasin', 'Hayriye', 'Fırat', 'Emre', 'Beyza', 'Mustafa']\n"
     ]
    }
   ],
   "source": [
    "cevap3=names.remove('Eda')\n",
    "print(names)"
   ]
  },
  {
   "cell_type": "markdown",
   "id": "f5b51e96",
   "metadata": {},
   "source": [
    "#### 4-  \"Yasin\" isminin indeksi nedir ?"
   ]
  },
  {
   "cell_type": "code",
   "execution_count": 6,
   "id": "5a5bb7ad",
   "metadata": {},
   "outputs": [
    {
     "name": "stdout",
     "output_type": "stream",
     "text": [
      "3\n"
     ]
    }
   ],
   "source": [
    "cevap4=names.index('Yasin')\n",
    "print(cevap4)"
   ]
  },
  {
   "cell_type": "markdown",
   "id": "607adcc0",
   "metadata": {},
   "source": [
    "#### 5-  \"Hayriye\" listenin bir elemanı mıdır ?"
   ]
  },
  {
   "cell_type": "code",
   "execution_count": 8,
   "id": "fe53b9ba",
   "metadata": {},
   "outputs": [
    {
     "name": "stdout",
     "output_type": "stream",
     "text": [
      "True\n",
      "4\n"
     ]
    }
   ],
   "source": [
    "cevap5= 'Hayriye' in names\n",
    "cevap5_2=names.index(\"Hayriye\")\n",
    "print(cevap5)\n",
    "print(cevap5_2)"
   ]
  },
  {
   "cell_type": "markdown",
   "id": "18b479b5",
   "metadata": {},
   "source": [
    "#### 6-  Liste elemanlarını ters çevirin."
   ]
  },
  {
   "cell_type": "code",
   "execution_count": 11,
   "id": "45734de3",
   "metadata": {},
   "outputs": [
    {
     "name": "stdout",
     "output_type": "stream",
     "text": [
      "['Mustafa', 'Beyza', 'Emre', 'Fırat', 'Hayriye', 'Yasin', 'Süleyman', 'Dilber', 'Dilber']\n"
     ]
    }
   ],
   "source": [
    "names.reverse()\n",
    "print(names)"
   ]
  },
  {
   "cell_type": "markdown",
   "id": "504c5728",
   "metadata": {},
   "source": [
    "#### 7-  Liste elemanlarını alfabetik olarak sıralayınız."
   ]
  },
  {
   "cell_type": "code",
   "execution_count": 12,
   "id": "254b251b",
   "metadata": {},
   "outputs": [
    {
     "name": "stdout",
     "output_type": "stream",
     "text": [
      "['Beyza', 'Dilber', 'Dilber', 'Emre', 'Fırat', 'Hayriye', 'Mustafa', 'Süleyman', 'Yasin']\n"
     ]
    }
   ],
   "source": [
    "names.sort()\n",
    "print(names)"
   ]
  },
  {
   "cell_type": "markdown",
   "id": "b5c07a35",
   "metadata": {},
   "source": [
    "#### 8-  years listesini rakamsal büyüklüğe göre sıralayınız."
   ]
  },
  {
   "cell_type": "code",
   "execution_count": 13,
   "id": "9f6a0683",
   "metadata": {},
   "outputs": [
    {
     "name": "stdout",
     "output_type": "stream",
     "text": [
      "[1994, 1995, 1997, 1997, 1997, 1998, 2000]\n"
     ]
    }
   ],
   "source": [
    "years.sort()\n",
    "print(years)"
   ]
  },
  {
   "cell_type": "markdown",
   "id": "1276cb55",
   "metadata": {},
   "source": [
    "#### 9-  str = \"Chevrolet,Dacia\" karakter dizisini listeye çeviriniz."
   ]
  },
  {
   "cell_type": "code",
   "execution_count": 14,
   "id": "17a2d7e1",
   "metadata": {},
   "outputs": [
    {
     "name": "stdout",
     "output_type": "stream",
     "text": [
      "['Chevrolet', 'Dacia']\n"
     ]
    }
   ],
   "source": [
    "araba= \"Chevrolet,Dacia\"\n",
    "cevap9=araba.split(\",\")\n",
    "print(cevap9)"
   ]
  },
  {
   "cell_type": "markdown",
   "id": "32f178dc",
   "metadata": {},
   "source": [
    "#### 10- years dizisinin en büyük ve en küçük elemanı nedir ?"
   ]
  },
  {
   "cell_type": "code",
   "execution_count": 16,
   "id": "b8bae6ae",
   "metadata": {},
   "outputs": [
    {
     "name": "stdout",
     "output_type": "stream",
     "text": [
      "1994 2000\n"
     ]
    }
   ],
   "source": [
    "min_=min(years)\n",
    "max_=max(years)\n",
    "print(min_,max_)"
   ]
  },
  {
   "cell_type": "markdown",
   "id": "36cdb1c9",
   "metadata": {},
   "source": [
    "#### 11- years dizisinde kaç tane 1997 değeri vardır ?"
   ]
  },
  {
   "cell_type": "code",
   "execution_count": 17,
   "id": "d38818d8",
   "metadata": {},
   "outputs": [
    {
     "name": "stdout",
     "output_type": "stream",
     "text": [
      "3\n"
     ]
    }
   ],
   "source": [
    "cevap11=years.count(1997)\n",
    "print(cevap11)"
   ]
  },
  {
   "cell_type": "markdown",
   "id": "e99833e7",
   "metadata": {},
   "source": [
    "#### 12- years dizisinin tüm elemanlarını siliniz."
   ]
  },
  {
   "cell_type": "code",
   "execution_count": 18,
   "id": "fe4b5114",
   "metadata": {},
   "outputs": [
    {
     "name": "stdout",
     "output_type": "stream",
     "text": [
      "[]\n"
     ]
    }
   ],
   "source": [
    "years.clear()\n",
    "print(years)"
   ]
  },
  {
   "cell_type": "markdown",
   "id": "f9476206",
   "metadata": {},
   "source": [
    "#### 13- Kullanıcıdan alacağınız 4 tane marka bilgisini bir listede saklayınız."
   ]
  },
  {
   "cell_type": "code",
   "execution_count": 19,
   "id": "0e79803e",
   "metadata": {},
   "outputs": [
    {
     "name": "stdout",
     "output_type": "stream",
     "text": [
      "marka: Opel\n",
      "['Opel']\n"
     ]
    }
   ],
   "source": [
    "markalar=[]\n",
    "\n",
    "marka=input('marka: ')\n",
    "markalar.append(marka)\n",
    "\n",
    "marka=input('marka: ')\n",
    "markalar.append(marka)\n",
    "\n",
    "marka=input('marka: ')\n",
    "markalar.append(marka)\n",
    "\n",
    "marka=input('marka: ')\n",
    "markalar.append(marka)\n",
    "\n",
    "print(markalar)"
   ]
  }
 ],
 "metadata": {
  "kernelspec": {
   "display_name": "Python 3 (ipykernel)",
   "language": "python",
   "name": "python3"
  },
  "language_info": {
   "codemirror_mode": {
    "name": "ipython",
    "version": 3
   },
   "file_extension": ".py",
   "mimetype": "text/x-python",
   "name": "python",
   "nbconvert_exporter": "python",
   "pygments_lexer": "ipython3",
   "version": "3.9.7"
  }
 },
 "nbformat": 4,
 "nbformat_minor": 5
}
