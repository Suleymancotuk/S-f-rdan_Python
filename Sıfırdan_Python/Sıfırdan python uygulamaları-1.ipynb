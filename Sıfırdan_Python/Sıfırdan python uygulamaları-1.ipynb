{
 "cells": [
  {
   "cell_type": "markdown",
   "id": "6ab23670",
   "metadata": {},
   "source": [
    "#### 1- Bir Müşterinin aşağıdaki bilgileri için değişken oluşturalım."
   ]
  },
  {
   "cell_type": "markdown",
   "id": "dbd3ea4b",
   "metadata": {},
   "source": [
    "* Müşteri Adı:\n",
    "* Müşteri Soyadı:\n",
    "* Müşteri Ad + Soyad:\n",
    "* Müşteri cinsiyet:\n",
    "* Müşteri TC Kimlik:\n",
    "* Müşteri Doğum Yılı:\n",
    "* Müşteri Adres Bilgisi:\n",
    "* Müşteri Yaşı:"
   ]
  },
  {
   "cell_type": "code",
   "execution_count": 15,
   "id": "5d1d2eb3",
   "metadata": {},
   "outputs": [
    {
     "name": "stdout",
     "output_type": "stream",
     "text": [
      "Müşteri Adı: Süleyman\n",
      "Müşteri Soyadı: Çotuk\n",
      "Müşteri Ad - Soyad: Süleyman Çotuk\n",
      "Müşteri cinsiyet: Erkek\n",
      "Müşteri TC Kimlik: 16873046310\n",
      "Müşteri Doğum Yılı: 1995\n",
      "Müşteri Adres Bilgisi: Vadişehir Mahallesi Eskişehir/Odunpazarı\n",
      "Müşteri Yaşı: 27\n"
     ]
    }
   ],
   "source": [
    "Musteri_Adı='Süleyman'\n",
    "Musteri_Soyad='Çotuk'\n",
    "Musteri_Ad_Soyad=Musteri_Adı + ' ' + Musteri_Soyad\n",
    "Musteri_Cinsiyet='Erkek'\n",
    "Musteri_Tc='16873046310'\n",
    "Musteri_Dogum=1995\n",
    "Musteri_adres='Vadişehir Mahallesi Eskişehir/Odunpazarı'\n",
    "Musteri_yas=2022-Musteri_Dogum\n",
    "print('Müşteri Adı:',Musteri_Adı)\n",
    "print('Müşteri Soyadı:',Musteri_Soyad)\n",
    "print('Müşteri Ad - Soyad:' ,Musteri_Ad_Soyad)\n",
    "print('Müşteri cinsiyet:' ,Musteri_Cinsiyet)\n",
    "print('Müşteri TC Kimlik:',Musteri_Tc)\n",
    "print('Müşteri Doğum Yılı:' ,Musteri_Dogum)\n",
    "print('Müşteri Adres Bilgisi:' ,Musteri_adres)\n",
    "print('Müşteri Yaşı:' ,Musteri_yas)"
   ]
  },
  {
   "cell_type": "markdown",
   "id": "48d2b7e3",
   "metadata": {},
   "source": [
    "### 2- Aşağıdaki sipariş bilgilerini hesaplayalım. "
   ]
  },
  {
   "cell_type": "markdown",
   "id": "7ccdd28c",
   "metadata": {},
   "source": [
    "* Sipariş 1=> 110 TL\n",
    "* Sipariş 2=> 1000.4 TL\n",
    "* Sipariş 3=> 356.98 TL\n",
    "* Sipariş 4=> 44.31 TL"
   ]
  },
  {
   "cell_type": "code",
   "execution_count": 19,
   "id": "fb448ef8",
   "metadata": {},
   "outputs": [
    {
     "name": "stdout",
     "output_type": "stream",
     "text": [
      "Toplam alışveriş tutarı:1511.69 TL\n"
     ]
    }
   ],
   "source": [
    "order_1= 110\n",
    "order_2= 1000.4\n",
    "order_3= 356.98\n",
    "order_4= 44.31\n",
    "toplam=order_1+order_2+order_3+order_4\n",
    "print(f'Toplam alışveriş tutarı:{toplam} TL')"
   ]
  }
 ],
 "metadata": {
  "kernelspec": {
   "display_name": "Python 3 (ipykernel)",
   "language": "python",
   "name": "python3"
  },
  "language_info": {
   "codemirror_mode": {
    "name": "ipython",
    "version": 3
   },
   "file_extension": ".py",
   "mimetype": "text/x-python",
   "name": "python",
   "nbconvert_exporter": "python",
   "pygments_lexer": "ipython3",
   "version": "3.9.7"
  }
 },
 "nbformat": 4,
 "nbformat_minor": 5
}
