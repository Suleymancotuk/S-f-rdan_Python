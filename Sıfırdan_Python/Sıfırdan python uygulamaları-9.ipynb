{
 "cells": [
  {
   "cell_type": "markdown",
   "id": "3d5d0ace",
   "metadata": {},
   "source": [
    "#### 1- Girilen bir sayının 24-244 arasında olup olmadığını kontrol ediniz."
   ]
  },
  {
   "cell_type": "code",
   "execution_count": 4,
   "id": "1a5ab248",
   "metadata": {},
   "outputs": [
    {
     "name": "stdout",
     "output_type": "stream",
     "text": [
      "Sayı giriniz:24\n",
      "Girilen 24 değeri 24 ile 244 arasındadır.\n"
     ]
    }
   ],
   "source": [
    "sayı=int(input('Sayı giriniz:'))\n",
    "if 24<=sayı<=244:\n",
    "    print(f\"Girilen {sayı} değeri 24 ile 244 arasındadır.\")\n",
    "else:\n",
    "    print(f\"Girilen {sayı} değeri 24 ile 244 arasında değildir.\")"
   ]
  },
  {
   "cell_type": "markdown",
   "id": "7ab0ed54",
   "metadata": {},
   "source": [
    "#### 2- Girilen bir sayının pozitif çift sayı olup olmadığını kontrol ediniz."
   ]
  },
  {
   "cell_type": "code",
   "execution_count": 9,
   "id": "4b87b41a",
   "metadata": {},
   "outputs": [
    {
     "name": "stdout",
     "output_type": "stream",
     "text": [
      "Sayı giriniz:-24\n",
      "Girilen -24 sayısı ÇİFT'tir fakat NEGATİF bir sayıdır.\n"
     ]
    }
   ],
   "source": [
    "sayı=int(input('Sayı giriniz:'))\n",
    "if (sayı%2==0) and (sayı>0):\n",
    "    print(f\"Girilen {sayı} sayısı hem ÇİFT hem de POZİTİF bir sayıdır.\")\n",
    "elif(sayı%2==0) and (sayı<0):\n",
    "    print(f\"Girilen {sayı} sayısı ÇİFT'tir fakat NEGATİF bir sayıdır.\")\n",
    "elif(sayı%2!=0) and (sayı>0):\n",
    "    print(f\"Girilen {sayı} sayısı TEK'tir fakat POZİTİF bir sayıdır.\")\n",
    "else:\n",
    "    print(f\"Girilen {sayı} sayısı hem TEK hem de NEGATİF sayıdır.\")"
   ]
  },
  {
   "cell_type": "code",
   "execution_count": 10,
   "id": "39758ec6",
   "metadata": {},
   "outputs": [
    {
     "name": "stdout",
     "output_type": "stream",
     "text": [
      "Sayı giriniz:-91\n",
      "Girilen -91 sayısı hem TEK hem de NEGATİF sayıdır.\n"
     ]
    }
   ],
   "source": [
    "sayı=int(input('Sayı giriniz:'))\n",
    "if (sayı%2==0) and (sayı>0):\n",
    "    print(f\"Girilen {sayı} sayısı hem ÇİFT hem de POZİTİF bir sayıdır.\")\n",
    "elif(sayı%2==0) and (sayı<0):\n",
    "    print(f\"Girilen {sayı} sayısı ÇİFT'tir fakat NEGATİF bir sayıdır.\")\n",
    "elif(sayı%2!=0) and (sayı>0):\n",
    "    print(f\"Girilen {sayı} sayısı TEK'tir fakat POZİTİF bir sayıdır.\")\n",
    "else:\n",
    "    print(f\"Girilen {sayı} sayısı hem TEK hem de NEGATİF sayıdır.\")"
   ]
  },
  {
   "cell_type": "markdown",
   "id": "f6814bc9",
   "metadata": {},
   "source": [
    "#### 3- Girilen 3 sayıyı büyüklük olarak karşılaştırınız."
   ]
  },
  {
   "cell_type": "code",
   "execution_count": 12,
   "id": "1c15c456",
   "metadata": {
    "scrolled": true
   },
   "outputs": [
    {
     "name": "stdout",
     "output_type": "stream",
     "text": [
      "1.Sayıyı giriniz:11\n",
      "2.Sayıyı giriniz:12\n",
      "3.Sayıyı giriniz:13\n",
      "Girilen 13 sayısı, girilen 12 ve girilen 11 değerinden büyüktür.\n"
     ]
    }
   ],
   "source": [
    "sayı1=int(input('1.Sayıyı giriniz:'))\n",
    "sayı2=int(input('2.Sayıyı giriniz:'))\n",
    "sayı3=int(input('3.Sayıyı giriniz:'))\n",
    "if sayı1<sayı2<sayı3:\n",
    "    print(f\"Girilen {sayı3} sayısı, girilen {sayı2} ve girilen {sayı1} değerinden büyüktür.\")\n",
    "elif sayı1<sayı3<sayı2:\n",
    "    print(f\"Girilen {sayı2} sayısı, girilen {sayı3} ve girilen {sayı1} değerinden büyüktür.\")\n",
    "elif sayı3<sayı1<sayı2:\n",
    "    print(f\"Girilen {sayı2} sayısı, girilen {sayı1} ve girilen {sayı3} değerinden büyüktür.\")\n",
    "elif sayı3<sayı2<sayı1:\n",
    "    print(f\"Girilen {sayı1} sayısı, girilen {sayı2} ve girilen {sayı3} değerinden büyüktür.\")\n",
    "elif sayı2<sayı1<sayı3:\n",
    "    print(f\"Girilen {sayı3} sayısı, girilen {sayı1} ve girilen {sayı2} değerinden büyüktür.\")\n",
    "else:\n",
    "    print(f\"Girilen {sayı1} sayısı, girilen {sayı3} ve girilen {sayı2} değerinden büyüktür.\")"
   ]
  },
  {
   "cell_type": "code",
   "execution_count": 13,
   "id": "fef70c92",
   "metadata": {},
   "outputs": [
    {
     "name": "stdout",
     "output_type": "stream",
     "text": [
      "1.Sayıyı giriniz:14\n",
      "2.Sayıyı giriniz:24\n",
      "3.Sayıyı giriniz:8\n",
      "Girilen 24 sayısı, girilen 14 ve girilen 8 değerinden büyüktür.\n"
     ]
    }
   ],
   "source": [
    "sayı1=int(input('1.Sayıyı giriniz:'))\n",
    "sayı2=int(input('2.Sayıyı giriniz:'))\n",
    "sayı3=int(input('3.Sayıyı giriniz:'))\n",
    "if sayı1<sayı2<sayı3:\n",
    "    print(f\"Girilen {sayı3} sayısı, girilen {sayı2} ve girilen {sayı1} değerinden büyüktür.\")\n",
    "elif sayı1<sayı3<sayı2:\n",
    "    print(f\"Girilen {sayı2} sayısı, girilen {sayı3} ve girilen {sayı1} değerinden büyüktür.\")\n",
    "elif sayı3<sayı1<sayı2:\n",
    "    print(f\"Girilen {sayı2} sayısı, girilen {sayı1} ve girilen {sayı3} değerinden büyüktür.\")\n",
    "elif sayı3<sayı2<sayı1:\n",
    "    print(f\"Girilen {sayı1} sayısı, girilen {sayı2} ve girilen {sayı3} değerinden büyüktür.\")\n",
    "elif sayı2<sayı1<sayı3:\n",
    "    print(f\"Girilen {sayı3} sayısı, girilen {sayı1} ve girilen {sayı2} değerinden büyüktür.\")\n",
    "else:\n",
    "    print(f\"Girilen {sayı1} sayısı, girilen {sayı3} ve girilen {sayı2} değerinden büyüktür.\")"
   ]
  },
  {
   "cell_type": "markdown",
   "id": "690a66ac",
   "metadata": {},
   "source": [
    "#### 5- Kullanıcıdan 2 vize (%60) ve final (%40) notunu alıp ortalama hesaplayınız.\n",
    "* Eğer ortalama 50 ve üstündeyse geçti değilse kaldı yazdırın.\n",
    "* a-) Ortamalama 50 olsa bile final notu en az 50 olmalıdır.\n",
    "* b-) Finalden 70 alındığında ortalamanın önemi olmasın."
   ]
  },
  {
   "cell_type": "code",
   "execution_count": 19,
   "id": "ebac65a3",
   "metadata": {},
   "outputs": [
    {
     "name": "stdout",
     "output_type": "stream",
     "text": [
      "Vize1 Notu:12\n",
      "Vize1 Notu:24\n",
      "Final Notu:70\n",
      "Ortalama:49.599999999999994 değeri 50'den küçüktür fakat Final notu 70'den büyüktür. Öğrenci geçti.\n"
     ]
    }
   ],
   "source": [
    "vize1=int(input('Vize1 Notu:'))\n",
    "vize2=int(input('Vize1 Notu:'))\n",
    "final=int(input('Final Notu:'))\n",
    "ortalama=((vize1+vize2)*0.6)+(final*0.4)\n",
    "if (ortalama >=50) and (final>=50):\n",
    "    print(f\"Ortalama:{ortalama} değeri 50'den büyüktür ve Final notu da 50 den büyüktür. Öğrenci geçti.\")\n",
    "elif (ortalama < 50) and (final >=70):\n",
    "    print(f\"Ortalama:{ortalama} değeri 50'den küçüktür fakat Final notu 70'den büyüktür. Öğrenci geçti.\")\n",
    "else:\n",
    "    print(f\"Ortalama:{ortalama} değeri ve final notu geçmeye yeterli değil. Öğrenci Kaldı.\")"
   ]
  },
  {
   "cell_type": "markdown",
   "id": "8c20806e",
   "metadata": {},
   "source": [
    "#### 6- Kişinin ad, kilo ve boy bilgilerini alıp kilo indekslerini hesaplayınız.\n",
    "* Formül: (Kilo / boy uzunluğunun karesi)\n",
    "* Aşağıdaki tabloya göre kişi hangi gruba girmektedir.\n",
    "** 0-18.4    => Zayıf \n",
    "** 18.5-24.9 => Normal  \n",
    "** 25.0-29.9 => Fazla Kilolu\n",
    "** 30.0-34.9 => Şişman (Obez)\n",
    "** 35-50     => Durum Vahim\n"
   ]
  },
  {
   "cell_type": "code",
   "execution_count": 22,
   "id": "2a1bbc31",
   "metadata": {},
   "outputs": [
    {
     "name": "stdout",
     "output_type": "stream",
     "text": [
      "Adınız: Süleyman\n",
      "Kilonuz: 108.7\n",
      "Boyunuz: 183.2\n",
      "Sayın Süleyman, Vücüt Kitle Endeksiniz:29.667 durumunuz: Fazla Kilolu\n"
     ]
    }
   ],
   "source": [
    "ad=input('Adınız: ')\n",
    "kilo=float(input('Kilonuz: '))\n",
    "boy=float(input('Boyunuz: '))\n",
    "VKİ=round((kilo/(boy*2))*100,3)\n",
    "if 0<=VKİ<18.5:\n",
    "    print(f\"Sayın {ad}, Vücüt Kitle Endeksiniz:{VKİ} durumunuz: Zayıf\")\n",
    "elif 18.5<=VKİ<25:\n",
    "    print(f\"Sayın {ad}, Vücüt Kitle Endeksiniz:{VKİ} durumunuz: Normal\")\n",
    "elif 25<=VKİ<30:\n",
    "    print(f\"Sayın {ad}, Vücüt Kitle Endeksiniz:{VKİ} durumunuz: Fazla Kilolu\")\n",
    "elif 30<=VKİ<35:\n",
    "    print(f\"Sayın {ad}, Vücüt Kitle Endeksiniz:{VKİ} durumunuz: Şişman(Obez)\")\n",
    "else:\n",
    "    print(f\"Sayın {ad}, Vücüt Kitle Endeksiniz:{VKİ} durumunuz: Durum Vahim\")"
   ]
  },
  {
   "cell_type": "code",
   "execution_count": null,
   "id": "a9e40c66",
   "metadata": {},
   "outputs": [],
   "source": []
  }
 ],
 "metadata": {
  "kernelspec": {
   "display_name": "Python 3 (ipykernel)",
   "language": "python",
   "name": "python3"
  },
  "language_info": {
   "codemirror_mode": {
    "name": "ipython",
    "version": 3
   },
   "file_extension": ".py",
   "mimetype": "text/x-python",
   "name": "python",
   "nbconvert_exporter": "python",
   "pygments_lexer": "ipython3",
   "version": "3.9.7"
  }
 },
 "nbformat": 4,
 "nbformat_minor": 5
}
