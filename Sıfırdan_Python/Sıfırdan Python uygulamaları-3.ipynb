{
 "cells": [
  {
   "cell_type": "code",
   "execution_count": 2,
   "id": "1e5b00ce",
   "metadata": {},
   "outputs": [],
   "source": [
    "email='suleymancotuk@gmail.com'\n",
    "note=\"--İstatistik pişmanlıktır ve pişmanlık herşeydir.--\""
   ]
  },
  {
   "cell_type": "markdown",
   "id": "fe7135e3",
   "metadata": {},
   "source": [
    "#### 1- \"  Merhaba Süleyman Çotuk hoşgeldin  \" dizisindeki baş ve sondaki boşlukalrı silelim."
   ]
  },
  {
   "cell_type": "code",
   "execution_count": 5,
   "id": "7796afe9",
   "metadata": {},
   "outputs": [
    {
     "name": "stdout",
     "output_type": "stream",
     "text": [
      "Merhaba Süleyman Çotuk hoşgeldin\n",
      "Merhaba Süleyman Çotuk hoşgeldin \n",
      " Merhaba Süleyman Çotuk hoşgeldin\n"
     ]
    }
   ],
   "source": [
    "cevap_1=\" Merhaba Süleyman Çotuk hoşgeldin \".strip()\n",
    "cevap_1_2=\" Merhaba Süleyman Çotuk hoşgeldin \".lstrip()\n",
    "cevap_1_3=\" Merhaba Süleyman Çotuk hoşgeldin \".rstrip()\n",
    "print(cevap_1)\n",
    "print(cevap_1_2)\n",
    "print(cevap_1_3)"
   ]
  },
  {
   "cell_type": "markdown",
   "id": "b07c7b4b",
   "metadata": {},
   "source": [
    "#### 2- email içindeki suleymancotuk dışındaki bilgileri silelim."
   ]
  },
  {
   "cell_type": "code",
   "execution_count": 7,
   "id": "c591216d",
   "metadata": {},
   "outputs": [
    {
     "name": "stdout",
     "output_type": "stream",
     "text": [
      "suleymancotuk\n"
     ]
    }
   ],
   "source": [
    "cevap_2=email.rstrip(\"@gmail.com\")\n",
    "print(cevap_2)"
   ]
  },
  {
   "cell_type": "markdown",
   "id": "a8bb27ab",
   "metadata": {},
   "source": [
    "#### 3-  note içindeki tüm harfleri küçük harf yapalım."
   ]
  },
  {
   "cell_type": "code",
   "execution_count": 11,
   "id": "7b46fc48",
   "metadata": {},
   "outputs": [
    {
     "name": "stdout",
     "output_type": "stream",
     "text": [
      "--i̇statistik pişmanlıktır ve pişmanlık herşeydir.--\n",
      "--İSTATISTIK PIŞMANLIKTIR VE PIŞMANLIK HERŞEYDIR.--\n",
      "--İstatistik Pişmanlıktır Ve Pişmanlık Herşeydir.--\n"
     ]
    }
   ],
   "source": [
    "cevap_3=print(note.lower())\n",
    "cevap_3_2=print(note.upper())\n",
    "cevap_3_3=print(note.title())"
   ]
  },
  {
   "cell_type": "markdown",
   "id": "06ff8b38",
   "metadata": {},
   "source": [
    "#### 4- email içinde kaç tane a harfi var."
   ]
  },
  {
   "cell_type": "code",
   "execution_count": 12,
   "id": "5c06e2d5",
   "metadata": {},
   "outputs": [
    {
     "name": "stdout",
     "output_type": "stream",
     "text": [
      "2\n"
     ]
    }
   ],
   "source": [
    "cevap_4=print(email.count(\"a\"))"
   ]
  },
  {
   "cell_type": "markdown",
   "id": "36b2c2df",
   "metadata": {},
   "source": [
    "#### 5-  email sul ile başlayıp com ile bitiyor mu?"
   ]
  },
  {
   "cell_type": "code",
   "execution_count": 15,
   "id": "78cb83e6",
   "metadata": {},
   "outputs": [
    {
     "name": "stdout",
     "output_type": "stream",
     "text": [
      "True\n",
      "True\n"
     ]
    }
   ],
   "source": [
    "cevap_5=print(email.startswith(\"sul\"))\n",
    "cevap_5_2=print(email.endswith(\".com\"))"
   ]
  },
  {
   "cell_type": "markdown",
   "id": "6214b4ee",
   "metadata": {},
   "source": [
    "#### 6-  email içinde .com var mı?"
   ]
  },
  {
   "cell_type": "code",
   "execution_count": 29,
   "id": "5f4fc9cb",
   "metadata": {},
   "outputs": [
    {
     "name": "stdout",
     "output_type": "stream",
     "text": [
      "19\n",
      "19\n",
      "19\n",
      "19\n",
      "-1\n"
     ]
    }
   ],
   "source": [
    "cevap_6=print(email.find(\".com\"))\n",
    "cevap_6_2=print(email.rfind(\".com\"))\n",
    "cevap_6_3=print(email.index(\".com\"))\n",
    "cevap_6_4=print(email.rindex(\".com\"))\n",
    "cevap_6_5=print(email.find(\".comm\"))"
   ]
  },
  {
   "cell_type": "markdown",
   "id": "43e8770b",
   "metadata": {},
   "source": [
    "#### 7-  note içindeki karakterlerin hepsi alfabetik harf mi?"
   ]
  },
  {
   "cell_type": "code",
   "execution_count": 33,
   "id": "392b1731",
   "metadata": {},
   "outputs": [
    {
     "name": "stdout",
     "output_type": "stream",
     "text": [
      "False\n",
      "False\n"
     ]
    }
   ],
   "source": [
    "cevap_7=print(note.isalpha())\n",
    "cevap_7_2=print(note.isdigit())"
   ]
  },
  {
   "cell_type": "markdown",
   "id": "abc65f95",
   "metadata": {},
   "source": [
    "#### 8-  'Veri' ifadesini satırda 40 karakter içinde yerleştirip sağ ve soluna - ekleyelim."
   ]
  },
  {
   "cell_type": "code",
   "execution_count": 38,
   "id": "90bccf5a",
   "metadata": {},
   "outputs": [
    {
     "name": "stdout",
     "output_type": "stream",
     "text": [
      "------------------Veri------------------\n",
      "Veri------------------------------------\n",
      "------------------------------------Veri\n"
     ]
    }
   ],
   "source": [
    "cevap_8=print('Veri'.center(40,\"-\"))\n",
    "cevap_8_2=print('Veri'.ljust(40,\"-\"))\n",
    "cevap_8_3=print('Veri'.rjust(40,\"-\"))"
   ]
  },
  {
   "cell_type": "markdown",
   "id": "76795433",
   "metadata": {},
   "source": [
    "#### 9-  note karakter dizisindeki tüm boşluk karakterleri '-' ile değiştirelim"
   ]
  },
  {
   "cell_type": "code",
   "execution_count": 42,
   "id": "8bdb3c41",
   "metadata": {},
   "outputs": [
    {
     "name": "stdout",
     "output_type": "stream",
     "text": [
      "--İstatistik-pişmanlıktır-ve-pişmanlık-herşeydir.--\n",
      "--İstatistikpişmanlıktırvepişmanlıkherşeydir.--\n",
      "--İstatistik*pişmanlıktır*ve pişmanlık herşeydir.--\n"
     ]
    }
   ],
   "source": [
    "cevap_9=print(note.replace(' ','-'))\n",
    "cevap_9_2=print(note.replace(' ',''))\n",
    "cevap_9_3=print(note.replace(' ','*',2))"
   ]
  },
  {
   "cell_type": "markdown",
   "id": "d38df83d",
   "metadata": {},
   "source": [
    "#### 10- 'İstatistik Pişmanlıktır.' ifadesindeki 'Pişmanlıktır yerine 'Herşeydir' yazalım. "
   ]
  },
  {
   "cell_type": "code",
   "execution_count": 43,
   "id": "9b8d3202",
   "metadata": {},
   "outputs": [
    {
     "name": "stdout",
     "output_type": "stream",
     "text": [
      "İstatistik Herşeydir.\n"
     ]
    }
   ],
   "source": [
    "cevap_10=print('İstatistik Pişmanlıktır.'.replace('Pişmanlıktır.','Herşeydir.') )"
   ]
  },
  {
   "cell_type": "markdown",
   "id": "b9d32c87",
   "metadata": {},
   "source": [
    "#### 11- note ifadesini tüm boşluklardan ayıralım."
   ]
  },
  {
   "cell_type": "code",
   "execution_count": 47,
   "id": "f936bba3",
   "metadata": {},
   "outputs": [
    {
     "name": "stdout",
     "output_type": "stream",
     "text": [
      "['--İstatistik', 'pişmanlıktır', 've', 'pişmanlık', 'herşeydir.--']\n"
     ]
    }
   ],
   "source": [
    "cevap_11=print(note.split(' '))"
   ]
  }
 ],
 "metadata": {
  "kernelspec": {
   "display_name": "Python 3 (ipykernel)",
   "language": "python",
   "name": "python3"
  },
  "language_info": {
   "codemirror_mode": {
    "name": "ipython",
    "version": 3
   },
   "file_extension": ".py",
   "mimetype": "text/x-python",
   "name": "python",
   "nbconvert_exporter": "python",
   "pygments_lexer": "ipython3",
   "version": "3.9.7"
  }
 },
 "nbformat": 4,
 "nbformat_minor": 5
}
